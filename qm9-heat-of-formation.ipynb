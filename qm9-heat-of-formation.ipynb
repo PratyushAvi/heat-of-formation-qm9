{
 "cells": [
  {
   "cell_type": "markdown",
   "metadata": {
    "cell_id": "00001-4871a9bb-90c3-48c8-a843-3e22e752fd9a",
    "deepnote_cell_type": "text-cell-h1",
    "tags": []
   },
   "source": [
    "# Heats of Formation Calculator"
   ]
  },
  {
   "cell_type": "markdown",
   "metadata": {
    "cell_id": "00001-86a4a16f-c787-4c83-bc09-ddadff7f18dd",
    "deepnote_cell_type": "text-cell-h2",
    "tags": []
   },
   "source": [
    "## This notebook calculates the Heat of Formation for each molecule in the QM9 dataset and returns a CSV file of the dataset with the counts of the C, H, O, N, and F and the Heats of Formation."
   ]
  },
  {
   "cell_type": "markdown",
   "metadata": {
    "cell_id": "00001-1f79f94e-1762-4e41-bd15-9717c88b775b",
    "deepnote_cell_type": "text-cell-h2",
    "tags": []
   },
   "source": [
    "## Installing requirements"
   ]
  },
  {
   "cell_type": "code",
   "execution_count": null,
   "metadata": {
    "cell_id": "00004-0070712d-b4dc-4b6e-be17-315e265499e6",
    "deepnote_cell_type": "code",
    "deepnote_to_be_reexecuted": false,
    "execution_millis": 16561,
    "execution_start": 1623346809192,
    "output_cleared": true,
    "source_hash": "86d0047",
    "tags": []
   },
   "outputs": [],
   "source": [
    "!curl -O https://raw.github.com/pypa/pip/master/contrib/get-pip.py\n",
    "!python get-pip.py\n",
    "\n",
    "!pip install pysmiles\n",
    "!pip install pandas"
   ]
  },
  {
   "cell_type": "markdown",
   "metadata": {
    "cell_id": "00005-fb5cb8cc-020a-4b1c-bd5e-7975f42cb1aa",
    "deepnote_cell_type": "text-cell-h2",
    "tags": []
   },
   "source": [
    "## Setting up a DataFrame with the QM9 dataset"
   ]
  },
  {
   "cell_type": "markdown",
   "metadata": {
    "cell_id": "00005-eaa7b80d-9bea-4181-ad9c-8b406b418560",
    "deepnote_cell_type": "markdown",
    "tags": []
   },
   "source": [
    "Load QM9 from GitHub and create a dataframe to hold the values"
   ]
  },
  {
   "cell_type": "code",
   "execution_count": null,
   "metadata": {
    "cell_id": "00005-d51638f2-2373-4c20-a31b-02b91a704458",
    "deepnote_cell_type": "code",
    "deepnote_to_be_reexecuted": false,
    "execution_millis": 1197,
    "execution_start": 1623346846522,
    "output_cleared": true,
    "source_hash": "568d3191",
    "tags": []
   },
   "outputs": [],
   "source": [
    "import pandas as pd\n",
    "\n",
    "df = pd.read_csv('https://raw.githubusercontent.com/OpenDrugAI/AttentiveFP/master/data/qm9.csv')\n",
    "display(df)"
   ]
  },
  {
   "cell_type": "markdown",
   "metadata": {
    "cell_id": "00008-d8e97a63-c207-4ea2-a3b5-9d2aa40c0781",
    "deepnote_cell_type": "text-cell-h2",
    "tags": []
   },
   "source": [
    "## Testing pysmiles"
   ]
  },
  {
   "cell_type": "markdown",
   "metadata": {
    "cell_id": "00008-b4fc9ead-89d8-4662-8392-5cf472e2fb71",
    "deepnote_cell_type": "text-cell-p",
    "tags": []
   },
   "source": [
    "pysmiles is a lightweight SMILES reader and writer. It allows us to get molecular information (like the constituent elements and their count) from a SMILES string."
   ]
  },
  {
   "cell_type": "code",
   "execution_count": null,
   "metadata": {
    "cell_id": "00008-03a983f8-412e-47b3-9ca0-3d1800e61472",
    "deepnote_cell_type": "code",
    "deepnote_to_be_reexecuted": false,
    "execution_millis": 485,
    "execution_start": 1623346851787,
    "output_cleared": true,
    "source_hash": "e37f821c",
    "tags": []
   },
   "outputs": [],
   "source": [
    "from pysmiles import read_smiles\n",
    "\n",
    "smiles = 'C#C'\n",
    "mol = read_smiles(smiles, explicit_hydrogen=True)\n",
    "\n",
    "print(mol.nodes(data='element'))"
   ]
  },
  {
   "cell_type": "markdown",
   "metadata": {
    "cell_id": "00012-2edaaf21-b7f1-4a4a-8dbc-a19e78c240bd",
    "deepnote_cell_type": "text-cell-h3",
    "tags": []
   },
   "source": [
    "### Getting data about constituent atoms from the compound we retrieved"
   ]
  },
  {
   "cell_type": "code",
   "execution_count": null,
   "metadata": {
    "cell_id": "00012-9d715c4e-d626-4209-9833-776bfe6a8353",
    "deepnote_cell_type": "code",
    "deepnote_to_be_reexecuted": false,
    "execution_millis": 1,
    "execution_start": 1623346854504,
    "output_cleared": true,
    "source_hash": "a5a40d05",
    "tags": []
   },
   "outputs": [],
   "source": [
    "def get_elements(smiles):\n",
    "    elements = {'C': 0, 'H': 0, 'O': 0, 'N': 0, 'F': 0}\n",
    "    \n",
    "    mol = read_smiles(smiles, explicit_hydrogen=True)\n",
    "\n",
    "    for e in mol.nodes(data='element'):\n",
    "        elements[e[1]] = elements[e[1]] + 1\n",
    "    \n",
    "    return elements\n",
    "\n",
    "elements = get_elements('C')\n",
    "print(elements)\n"
   ]
  },
  {
   "cell_type": "markdown",
   "metadata": {
    "cell_id": "00013-25a2169a-f0b0-428e-8900-6a79d73d29e2",
    "deepnote_cell_type": "text-cell-h2",
    "tags": []
   },
   "source": [
    "## Standard Enthalpies of Formation"
   ]
  },
  {
   "cell_type": "markdown",
   "metadata": {
    "cell_id": "00014-82771fa1-f9c2-4352-85ce-50b86e8337df",
    "deepnote_cell_type": "markdown",
    "tags": []
   },
   "source": [
    "Values for the enthalpy of formation of each atom was found in “Wired Chemist.” Standard Enthalpies of Formation of Gaseous Atoms, www.wiredchemist.com/chemistry/data/enthalpies. "
   ]
  },
  {
   "cell_type": "code",
   "execution_count": null,
   "metadata": {
    "cell_id": "00012-44f4e1b0-50db-4efc-bc3f-0bd203941692",
    "deepnote_cell_type": "code",
    "deepnote_to_be_reexecuted": false,
    "execution_millis": 17,
    "execution_start": 1623346861348,
    "output_cleared": true,
    "source_hash": "38749d5d",
    "tags": []
   },
   "outputs": [],
   "source": [
    "def get_std_form_energy(elements):\n",
    "    # in kcal/mol\n",
    "    std_form_energies = {\n",
    "        'C': 171.367,\n",
    "        'H': 52.1033,\n",
    "        'O': 59.5124,\n",
    "        'N': 113.05,\n",
    "        'F': 18.8815\n",
    "        }\n",
    "    \n",
    "    energy = 0\n",
    "\n",
    "    for e in elements:\n",
    "        energy = energy + std_form_energies[e] * elements[e]\n",
    "    \n",
    "    return energy\n",
    "\n",
    "print(get_std_form_energy(elements))\n"
   ]
  },
  {
   "cell_type": "markdown",
   "metadata": {
    "cell_id": "00016-b434b863-c55a-4785-b741-460e6c15eb17",
    "deepnote_cell_type": "text-cell-h3",
    "tags": []
   },
   "source": [
    "### Calculating counts of C,H,O,N,F and the heats of formation"
   ]
  },
  {
   "cell_type": "markdown",
   "metadata": {
    "cell_id": "00019-7c396ee6-a665-4ec0-85f6-336b20ddf89b",
    "deepnote_cell_type": "text-cell-p",
    "tags": []
   },
   "source": [
    "We call the function \"get_elements()\" to return the count of the constituent elements of the molecule associated with the SMILES string passed in. We pass this information to \"get_std_form_energy()\" to get the experimental formation energy for the constituent elements. "
   ]
  },
  {
   "cell_type": "markdown",
   "metadata": {
    "cell_id": "00020-d57b6b5b-e80e-4c4a-aaf7-ff7de3425e32",
    "deepnote_cell_type": "text-cell-p",
    "tags": []
   },
   "source": [
    "Equation used to calculate the Heat of Formation: ∆fH°(CmHn; 298 K)&nbsp;)&nbsp;m∆fH°exptl(C; 298 K)&nbsp;+&nbsp;n∆H°&nbsp;(H;298K)-[mH°&nbsp;(C;298K)+f exptl calcdnH°calcd(H; 298 K)&nbsp;-&nbsp;H°calcd(CmHn; 298 K)]"
   ]
  },
  {
   "cell_type": "code",
   "execution_count": null,
   "metadata": {
    "cell_id": "00014-1a4d5af8-39c8-4000-8c91-e23edff1c1a7",
    "deepnote_cell_type": "code",
    "deepnote_to_be_reexecuted": false,
    "execution_millis": 144390,
    "execution_start": 1623347112301,
    "output_cleared": true,
    "source_hash": "d4bc4b8f",
    "tags": []
   },
   "outputs": [],
   "source": [
    "new_data = {'carbon': [], 'hydrogen': [], 'oxygen': [], 'nitrogen': [], 'fluorine': [], 'exp_enthalpy': [], 'hof': []}\n",
    "\n",
    "for i in range(len(df)):\n",
    "    molecule = df.loc[i, 'smiles']\n",
    "    elements = get_elements(molecule)\n",
    "    exp_enthalpy = get_std_form_energy(elements)\n",
    "    \n",
    "    new_data['carbon'].append(elements['C'])\n",
    "    new_data['hydrogen'].append(elements['H'])\n",
    "    new_data['oxygen'].append(elements['O'])\n",
    "    new_data['nitrogen'].append(elements['N'])\n",
    "    new_data['fluorine'].append(elements['F'])\n",
    "    new_data['exp_enthalpy'].append(exp_enthalpy)\n",
    "    \n",
    "    # Calculating the HoF using internal energy at 298.15 K\n",
    "    u298_atom = df.loc[i, 'u298_atom']\n",
    "    new_data['hof'].append(u298_atom + exp_enthalpy)\n",
    "\n",
    "    sys.stdout.write('\\r')\n",
    "    sys.stdout.write(\"[%-20s] %d%% %d/%d\" % ('#'*int((i / (MAX_POINTS/20))), float(i/MAX_POINTS*100), i, MAX_POINTS))\n",
    "    sys.stdout.flush()\n",
    "\n",
    "new_df = pd.DataFrame(new_data)    \n",
    "display(new_df)"
   ]
  },
  {
   "cell_type": "markdown",
   "metadata": {
    "cell_id": "00018-04fcbf6a-95f7-4511-b07d-5c70ecb6f771",
    "deepnote_cell_type": "text-cell-h3",
    "tags": []
   },
   "source": [
    "### Append the new information to the QM9 DataFrame"
   ]
  },
  {
   "cell_type": "code",
   "execution_count": null,
   "metadata": {
    "cell_id": "00018-8815b496-8ce0-466b-8ac6-d204353f8e27",
    "deepnote_cell_type": "code",
    "deepnote_to_be_reexecuted": false,
    "execution_millis": 127,
    "execution_start": 1623347256687,
    "output_cleared": true,
    "source_hash": "d79cecda",
    "tags": []
   },
   "outputs": [],
   "source": [
    "df = pd.concat([df, new_df], axis=1)\n",
    "display(df)"
   ]
  },
  {
   "cell_type": "markdown",
   "metadata": {
    "cell_id": "00020-11547bd5-d9bb-4cf0-ac3c-b7d134574c90",
    "deepnote_cell_type": "text-cell-h3",
    "tags": []
   },
   "source": [
    "### Convert the updated QM9 DataFrame into a CSV file"
   ]
  },
  {
   "cell_type": "code",
   "execution_count": null,
   "metadata": {
    "cell_id": "00019-0f5213c7-ea8e-4d9f-b05a-ac0895dc6052",
    "deepnote_cell_type": "code",
    "deepnote_to_be_reexecuted": false,
    "execution_millis": 6085,
    "execution_start": 1623347028439,
    "output_cleared": true,
    "source_hash": "fa6b526b",
    "tags": []
   },
   "outputs": [],
   "source": [
    "df.to_csv('qm9_HoF.csv')"
   ]
  }
 ],
 "metadata": {
  "deepnote": {
   "is_reactive": false
  },
  "deepnote_execution_queue": [],
  "deepnote_notebook_id": "f0f9435d-ddac-4d5e-a36b-8bae346e9bcf",
  "kernelspec": {
   "display_name": "Python 3",
   "language": "python",
   "name": "python3"
  },
  "language_info": {
   "codemirror_mode": {
    "name": "ipython",
    "version": 3
   },
   "file_extension": ".py",
   "mimetype": "text/x-python",
   "name": "python",
   "nbconvert_exporter": "python",
   "pygments_lexer": "ipython3",
   "version": "3.8.10"
  }
 },
 "nbformat": 4,
 "nbformat_minor": 2
}
