{
 "cells": [
  {
   "cell_type": "markdown",
   "source": "# Heats of Formation Calculator",
   "metadata": {
    "tags": [],
    "cell_id": "00001-4871a9bb-90c3-48c8-a843-3e22e752fd9a",
    "deepnote_cell_type": "text-cell-h1"
   }
  },
  {
   "cell_type": "markdown",
   "source": "## This notebook calculates the Heat of Formation for each molecule in the QM9 dataset and returns a CSV file of the dataset with the counts of the C, H, O, N, and F and the Heats of Formation.",
   "metadata": {
    "tags": [],
    "cell_id": "00001-86a4a16f-c787-4c83-bc09-ddadff7f18dd",
    "deepnote_cell_type": "text-cell-h2"
   }
  },
  {
   "cell_type": "markdown",
   "source": "## Installing requirements",
   "metadata": {
    "tags": [],
    "cell_id": "00001-1f79f94e-1762-4e41-bd15-9717c88b775b",
    "deepnote_cell_type": "text-cell-h2"
   }
  },
  {
   "cell_type": "code",
   "metadata": {
    "tags": [],
    "cell_id": "00004-0070712d-b4dc-4b6e-be17-315e265499e6",
    "deepnote_to_be_reexecuted": false,
    "source_hash": "86d0047",
    "execution_start": 1623346809192,
    "execution_millis": 16561,
    "output_cleared": true,
    "deepnote_cell_type": "code"
   },
   "source": "!curl -O https://raw.github.com/pypa/pip/master/contrib/get-pip.py\n!python get-pip.py\n\n!pip install pysmiles\n!pip install pandas",
   "execution_count": null,
   "outputs": []
  },
  {
   "cell_type": "markdown",
   "source": "## Setting up a DataFrame with the QM9 dataset",
   "metadata": {
    "tags": [],
    "cell_id": "00005-fb5cb8cc-020a-4b1c-bd5e-7975f42cb1aa",
    "deepnote_cell_type": "text-cell-h2"
   }
  },
  {
   "cell_type": "markdown",
   "source": "Load QM9 from GitHub and create a dataframe to hold the values",
   "metadata": {
    "tags": [],
    "cell_id": "00005-eaa7b80d-9bea-4181-ad9c-8b406b418560",
    "deepnote_cell_type": "markdown"
   }
  },
  {
   "cell_type": "code",
   "metadata": {
    "tags": [],
    "cell_id": "00005-d51638f2-2373-4c20-a31b-02b91a704458",
    "deepnote_to_be_reexecuted": false,
    "source_hash": "568d3191",
    "execution_start": 1623346846522,
    "execution_millis": 1197,
    "output_cleared": true,
    "deepnote_cell_type": "code"
   },
   "source": "import pandas as pd\n\ndf = pd.read_csv('https://raw.githubusercontent.com/OpenDrugAI/AttentiveFP/master/data/qm9.csv')\ndisplay(df)",
   "execution_count": null,
   "outputs": []
  },
  {
   "cell_type": "markdown",
   "source": "## Testing pysmiles",
   "metadata": {
    "tags": [],
    "cell_id": "00008-d8e97a63-c207-4ea2-a3b5-9d2aa40c0781",
    "deepnote_cell_type": "text-cell-h2"
   }
  },
  {
   "cell_type": "markdown",
   "source": "pysmiles is a lightweight SMILES reader and writer. It allows us to get molecular information (like the constituent elements and their count) from a SMILES string.",
   "metadata": {
    "tags": [],
    "cell_id": "00008-b4fc9ead-89d8-4662-8392-5cf472e2fb71",
    "deepnote_cell_type": "text-cell-p"
   }
  },
  {
   "cell_type": "code",
   "metadata": {
    "tags": [],
    "cell_id": "00008-03a983f8-412e-47b3-9ca0-3d1800e61472",
    "deepnote_to_be_reexecuted": false,
    "source_hash": "e37f821c",
    "execution_start": 1623346851787,
    "execution_millis": 485,
    "output_cleared": true,
    "deepnote_cell_type": "code"
   },
   "source": "from pysmiles import read_smiles\n\nsmiles = 'C#C'\nmol = read_smiles(smiles, explicit_hydrogen=True)\n\nprint(mol.nodes(data='element'))",
   "execution_count": null,
   "outputs": []
  },
  {
   "cell_type": "markdown",
   "source": "### Getting data about constituent atoms from the compound we retrieved",
   "metadata": {
    "tags": [],
    "cell_id": "00012-2edaaf21-b7f1-4a4a-8dbc-a19e78c240bd",
    "deepnote_cell_type": "text-cell-h3"
   }
  },
  {
   "cell_type": "code",
   "metadata": {
    "tags": [],
    "cell_id": "00012-9d715c4e-d626-4209-9833-776bfe6a8353",
    "deepnote_to_be_reexecuted": false,
    "source_hash": "a5a40d05",
    "execution_start": 1623346854504,
    "execution_millis": 1,
    "output_cleared": true,
    "deepnote_cell_type": "code"
   },
   "source": "def get_elements(smiles):\n    elements = {'C': 0, 'H': 0, 'O': 0, 'N': 0, 'F': 0}\n    \n    mol = read_smiles(smiles, explicit_hydrogen=True)\n\n    for e in mol.nodes(data='element'):\n        elements[e[1]] = elements[e[1]] + 1\n    \n    return elements\n\nelements = get_elements('C')\nprint(elements)\n",
   "execution_count": null,
   "outputs": []
  },
  {
   "cell_type": "markdown",
   "source": "## Standard Enthalpies of Formation",
   "metadata": {
    "tags": [],
    "cell_id": "00013-25a2169a-f0b0-428e-8900-6a79d73d29e2",
    "deepnote_cell_type": "text-cell-h2"
   }
  },
  {
   "cell_type": "markdown",
   "source": "Values for the enthalpy of formation of each atom was found in “Wired Chemist.” Standard Enthalpies of Formation of Gaseous Atoms, www.wiredchemist.com/chemistry/data/enthalpies. ",
   "metadata": {
    "tags": [],
    "cell_id": "00014-82771fa1-f9c2-4352-85ce-50b86e8337df",
    "deepnote_cell_type": "markdown"
   }
  },
  {
   "cell_type": "code",
   "metadata": {
    "tags": [],
    "cell_id": "00012-44f4e1b0-50db-4efc-bc3f-0bd203941692",
    "deepnote_to_be_reexecuted": false,
    "source_hash": "38749d5d",
    "execution_start": 1623346861348,
    "execution_millis": 17,
    "output_cleared": true,
    "deepnote_cell_type": "code"
   },
   "source": "def get_std_form_energy(elements):\n    # in kcal/mol\n    std_form_energies = {\n        'C': 171.367,\n        'H': 52.1033,\n        'O': 59.5124,\n        'N': 113.05,\n        'F': 18.8815\n        }\n    \n    energy = 0\n\n    for e in elements:\n        energy = energy + std_form_energies[e] * elements[e]\n    \n    return energy\n\nprint(get_std_form_energy(elements))\n",
   "execution_count": null,
   "outputs": []
  },
  {
   "cell_type": "markdown",
   "source": "### Calculating counts of C,H,O,N,F and the heats of formation",
   "metadata": {
    "tags": [],
    "cell_id": "00016-b434b863-c55a-4785-b741-460e6c15eb17",
    "deepnote_cell_type": "text-cell-h3"
   }
  },
  {
   "cell_type": "markdown",
   "source": "We call the function \"get_elements()\" to return the count of the constituent elements of the molecule associated with the SMILES string passed in. We pass this information to \"get_std_form_energy()\" to get the experimental formation energy for the constituent elements. ",
   "metadata": {
    "tags": [],
    "cell_id": "00019-7c396ee6-a665-4ec0-85f6-336b20ddf89b",
    "deepnote_cell_type": "text-cell-p"
   }
  },
  {
   "cell_type": "markdown",
   "source": "Equation used to calculate the Heat of Formation: ∆fH°(CmHn; 298 K)&nbsp;)&nbsp;m∆fH°exptl(C; 298 K)&nbsp;+&nbsp;n∆H°&nbsp;(H;298K)-[mH°&nbsp;(C;298K)+f exptl calcdnH°calcd(H; 298 K)&nbsp;-&nbsp;H°calcd(CmHn; 298 K)]",
   "metadata": {
    "tags": [],
    "cell_id": "00020-d57b6b5b-e80e-4c4a-aaf7-ff7de3425e32",
    "deepnote_cell_type": "text-cell-p"
   }
  },
  {
   "cell_type": "code",
   "metadata": {
    "tags": [],
    "cell_id": "00014-1a4d5af8-39c8-4000-8c91-e23edff1c1a7",
    "deepnote_to_be_reexecuted": false,
    "source_hash": "d4bc4b8f",
    "execution_start": 1623347112301,
    "execution_millis": 144390,
    "output_cleared": true,
    "deepnote_cell_type": "code"
   },
   "source": "new_data = {'carbon': [], 'hydrogen': [], 'oxygen': [], 'nitrogen': [], 'fluorine': [], 'exp_enthalpy': [], 'hof': []}\n\nfor i in range(len(df)):\n    molecule = df.loc[i, 'smiles']\n    elements = get_elements(molecule)\n    exp_enthalpy = get_std_form_energy(elements)\n    \n    new_data['carbon'].append(elements['C'])\n    new_data['hydrogen'].append(elements['H'])\n    new_data['oxygen'].append(elements['O'])\n    new_data['nitrogen'].append(elements['N'])\n    new_data['fluorine'].append(elements['F'])\n    new_data['exp_enthalpy'].append(exp_enthalpy)\n    \n    # Calculating the HoF using internal energy at 298.15 K\n    u298_atom = df.loc[i, 'u298_atom']\n    new_data['hof'].append(u298_atom + exp_enthalpy)\n\n    sys.stdout.write('\\r')\n    sys.stdout.write(\"[%-20s] %d%% %d/%d\" % ('#'*int((i / (MAX_POINTS/20))), float(i/MAX_POINTS*100), i, MAX_POINTS))\n    sys.stdout.flush()\n\nnew_df = pd.DataFrame(new_data)    \ndisplay(new_df)",
   "execution_count": null,
   "outputs": []
  },
  {
   "cell_type": "markdown",
   "source": "### Append the new information to the QM9 DataFrame",
   "metadata": {
    "tags": [],
    "cell_id": "00018-04fcbf6a-95f7-4511-b07d-5c70ecb6f771",
    "deepnote_cell_type": "text-cell-h3"
   }
  },
  {
   "cell_type": "code",
   "metadata": {
    "tags": [],
    "cell_id": "00018-8815b496-8ce0-466b-8ac6-d204353f8e27",
    "deepnote_to_be_reexecuted": false,
    "source_hash": "d79cecda",
    "execution_start": 1623347256687,
    "execution_millis": 127,
    "output_cleared": true,
    "deepnote_cell_type": "code"
   },
   "source": "df = pd.concat([df, new_df], axis=1)\ndisplay(df)",
   "execution_count": null,
   "outputs": []
  },
  {
   "cell_type": "markdown",
   "source": "### Convert the updated QM9 DataFrame into a CSV file",
   "metadata": {
    "tags": [],
    "cell_id": "00020-11547bd5-d9bb-4cf0-ac3c-b7d134574c90",
    "deepnote_cell_type": "text-cell-h3"
   }
  },
  {
   "cell_type": "code",
   "metadata": {
    "tags": [],
    "cell_id": "00019-0f5213c7-ea8e-4d9f-b05a-ac0895dc6052",
    "deepnote_to_be_reexecuted": false,
    "source_hash": "fa6b526b",
    "execution_start": 1623347028439,
    "execution_millis": 6085,
    "output_cleared": true,
    "deepnote_cell_type": "code"
   },
   "source": "df.to_csv('qm9_HoF.csv')",
   "execution_count": null,
   "outputs": []
  },
  {
   "cell_type": "markdown",
   "source": "<a style='text-decoration:none;line-height:16px;display:flex;color:#5B5B62;padding:10px;justify-content:end;' href='https://deepnote.com?utm_source=created-in-deepnote-cell&projectId=a5ca659c-bddb-45d3-82f8-9d4143ab06ce' target=\"_blank\">\n<img alt='Created in deepnote.com' style='display:inline;max-height:16px;margin:0px;margin-right:7.5px;' src='data:image/svg+xml;base64,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' > </img>\nCreated in <span style='font-weight:600;margin-left:4px;'>Deepnote</span></a>",
   "metadata": {
    "tags": [],
    "created_in_deepnote_cell": true,
    "deepnote_cell_type": "markdown"
   }
  }
 ],
 "nbformat": 4,
 "nbformat_minor": 2,
 "metadata": {
  "orig_nbformat": 2,
  "deepnote": {
   "is_reactive": false
  },
  "deepnote_notebook_id": "f0f9435d-ddac-4d5e-a36b-8bae346e9bcf",
  "deepnote_execution_queue": []
 }
}